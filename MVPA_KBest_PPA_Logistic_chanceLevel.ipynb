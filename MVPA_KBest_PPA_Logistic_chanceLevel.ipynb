{
 "cells": [
  {
   "cell_type": "code",
   "execution_count": 1,
   "metadata": {
    "collapsed": true
   },
   "outputs": [],
   "source": [
    "import nilearn\n",
    "import numpy as np\n",
    "import matplotlib.pyplot as plt\n",
    "import nibabel as nib\n",
    "from nilearn import plotting\n",
    "import pylab"
   ]
  },
  {
   "cell_type": "code",
   "execution_count": 2,
   "metadata": {},
   "outputs": [
    {
     "name": "stdout",
     "output_type": "stream",
     "text": [
      "Here are the number of active voxels in the contrast mask across subjects\n",
      "[910L, 1193L, 1551L, 604L, 360L, 1232L, 1531L, 1198L, 923L, 287L, 1318L, 1157L, 716L, 1015L, 1068L, 295L, 1066L, 771L, 1234L, 781L, 1137L, 995L, 1117L, 403L, 1391L]\n",
      "The minimum number of voxels is 287 for subject 9\n",
      "(79L, 95L, 79L, 25L)\n",
      "[[21 31 30]\n",
      " [21 32 29]\n",
      " [21 32 30]\n",
      " ..., \n",
      " [56 38 25]\n",
      " [56 38 26]\n",
      " [56 38 27]]\n"
     ]
    }
   ],
   "source": [
    "path = \"X:/IntMem/analyses/Pierre/localizer/SPM\"\n",
    "subj = np.array(range(30))\n",
    "#want to remove subjects [5,10,18,19,21]\n",
    "excluded = np.array([4,9,17,18,20])\n",
    "subj = np.delete(subj,excluded)\n",
    "fs=[\"\" for x in subj] #Path of each of the PPA contrast masks\n",
    "for i in range(subj.size):\n",
    "    n = subj[i]+1\n",
    "    sub =  \"/s\" + str(n)\n",
    "    fs[i] = path + sub + \"/con1mask_PPA.nii\"\n",
    "PPA = [nib.load(i).get_data() for i in fs]\n",
    "PPA_ac = [np.argwhere(i) for i in PPA] #storing all the activated voxels here\n",
    "sizeAc = [PPA_ac[i].shape[0] for i in range(subj.size)]\n",
    "print(\"Here are the number of active voxels in the contrast mask across subjects\")\n",
    "print(sizeAc)\n",
    "print(\"The minimum number of voxels is %s for subject %s\" % (np.min(sizeAc),np.where(sizeAc==np.min(sizeAc))[0][0]))\n",
    "mSz = PPA[0].shape\n",
    "refOne = np.ones(subj.size)\n",
    "refZero = np.zeros(subj.size)\n",
    "AllPPA = np.empty([mSz[0],mSz[1],mSz[2],subj.size])\n",
    "for i in range(subj.size):\n",
    "    AllPPA[:,:,:,i] = PPA[i]\n",
    "print(AllPPA.shape)\n",
    "print(PPA_ac[3])"
   ]
  },
  {
   "cell_type": "code",
   "execution_count": 3,
   "metadata": {},
   "outputs": [
    {
     "name": "stdout",
     "output_type": "stream",
     "text": [
      "[ 2  3  6  7 14 15 22 23 26 27 30 31 34 35 42 43 48 49 54 55]\n"
     ]
    }
   ],
   "source": [
    "import os\n",
    "#This is an important parameter that we want to set for later analyses\n",
    "\n",
    "path = \"X:/IntMem/analyses/Pierre/localizer/\"\n",
    "os.chdir(path)\n",
    "fname = \"Block_Order.txt\"\n",
    "f = open(fname,\"r\")\n",
    "cc = 0\n",
    "order = [line.rstrip() for line in f] #rstrip removes the \"\\n\" symbol\n",
    "order2 = [\"\" for i in range(len(order)*2)]\n",
    "for oo in order:\n",
    "    order2[cc] = oo\n",
    "    order2[cc+1] = oo\n",
    "    cc = cc+2\n",
    "F2,O2,S2 = np.zeros(len(order2)),np.zeros(len(order2)),np.zeros(len(order2))\n",
    "for i in range(len(order2)):\n",
    "    if(order2[i]=='F'):\n",
    "        F2[i] = 1\n",
    "    elif(order2[i]=='O'):\n",
    "        O2[i] = 1\n",
    "    else:\n",
    "        S2[i] = 1\n",
    "O_ind2 = np.argwhere(O2).flatten()\n",
    "F_ind2 = np.argwhere(F2).flatten()\n",
    "S_ind2 = np.argwhere(S2).flatten()\n",
    "print(O_ind2)"
   ]
  },
  {
   "cell_type": "code",
   "execution_count": 7,
   "metadata": {
    "collapsed": true
   },
   "outputs": [],
   "source": [
    "#Important cell. Here we are dealing with the K-folds initialization for the MVPA cross-validation\n",
    "K = 20\n",
    "ResultsClf = np.zeros((subj.size,K))\n",
    "NullRes = np.zeros((subj.size,K))\n",
    "classification_accuracy = np.zeros(subj.size)\n",
    "permuted_accuracy = np.zeros(subj.size)\n",
    "p_values = np.zeros(subj.size) #p_values to report\n",
    "chance_level = np.zeros(subj.size)\n",
    "n_permutations = 1000\n",
    "path = \"X:/IntMem/data\""
   ]
  },
  {
   "cell_type": "code",
   "execution_count": 8,
   "metadata": {},
   "outputs": [
    {
     "name": "stdout",
     "output_type": "stream",
     "text": [
      "[[  0.   0.   0.]\n",
      " [  0.   0.   1.]\n",
      " [  0.   0.   2.]\n",
      " ..., \n",
      " [ 78.  94.  76.]\n",
      " [ 78.  94.  77.]\n",
      " [ 78.  94.  78.]]\n",
      "592895\n"
     ]
    }
   ],
   "source": [
    "#Here, we are getting the x, y, z coordinates of all the voxels in the Nifti file\n",
    "AllInds = np.zeros((mSz[0]*mSz[1]*mSz[2],3))\n",
    "ii = 0\n",
    "for v1 in range(mSz[0]):\n",
    "    for v2 in range(mSz[1]):\n",
    "        for v3 in range(mSz[2]):\n",
    "            AllInds[ii] = [v1,v2,v3]\n",
    "            ii = ii+1\n",
    "print(AllInds)\n",
    "print(mSz[0]*mSz[1]*mSz[2])"
   ]
  },
  {
   "cell_type": "code",
   "execution_count": 9,
   "metadata": {},
   "outputs": [
    {
     "name": "stdout",
     "output_type": "stream",
     "text": [
      "[ 0.  0.  0. ...,  0.  0.  0.]\n",
      "592895\n",
      "1391.0\n",
      "(25L, 592895L)\n"
     ]
    }
   ],
   "source": [
    "#Apply PPA mask here\n",
    "NewInds = np.zeros((subj.size,mSz[0]*mSz[1]*mSz[2]))\n",
    "for su in range(subj.size):\n",
    "    NewInds_curr = np.zeros((mSz[0],mSz[1],mSz[2]))\n",
    "    curr_ac = PPA_ac[su]\n",
    "    for i in range(curr_ac.shape[0]):\n",
    "        curIdx = curr_ac[i]\n",
    "        v1, v2, v3 = curIdx[0], curIdx[1], curIdx[2]\n",
    "        NewInds_curr[v1,v2,v3] = 1\n",
    "    NewInds_curr = NewInds_curr.flatten()\n",
    "    NewInds[su] = np.array([int(x) for x in NewInds_curr])\n",
    "print(NewInds_curr)\n",
    "print(NewInds_curr.shape[0])\n",
    "print(np.sum(NewInds_curr))\n",
    "print(NewInds.shape)"
   ]
  },
  {
   "cell_type": "code",
   "execution_count": 16,
   "metadata": {},
   "outputs": [
    {
     "name": "stdout",
     "output_type": "stream",
     "text": [
      "Currently dealing with subject 1\n",
      "Currently dealing with subject 2\n",
      "Currently dealing with subject 3\n",
      "Currently dealing with subject 4\n",
      "Currently dealing with subject 6\n",
      "Currently dealing with subject 7\n",
      "Currently dealing with subject 8\n",
      "Currently dealing with subject 9\n",
      "Currently dealing with subject 11\n",
      "Currently dealing with subject 12\n",
      "Currently dealing with subject 13\n",
      "Currently dealing with subject 14\n",
      "Currently dealing with subject 15\n",
      "Currently dealing with subject 16\n",
      "Currently dealing with subject 17\n",
      "Currently dealing with subject 20\n",
      "Currently dealing with subject 22\n",
      "Currently dealing with subject 23\n",
      "Currently dealing with subject 24\n",
      "Currently dealing with subject 25\n",
      "Currently dealing with subject 26\n",
      "Currently dealing with subject 27\n",
      "Currently dealing with subject 28\n",
      "Currently dealing with subject 29\n",
      "Currently dealing with subject 30\n",
      "printing classification accuracy\n",
      "[ 0.975  1.     1.     0.9    0.925  0.85   1.     0.85   0.875  0.85   0.95\n",
      "  1.     0.9    0.95   0.925  0.825  0.975  0.925  1.     0.85   0.95\n",
      "  0.825  0.925  0.9    0.975]\n",
      "printing permuted accuracy\n",
      "[ 0.4811    0.491625  0.489     0.48605   0.485875  0.489475  0.4921\n",
      "  0.490225  0.4895    0.48485   0.48635   0.491325  0.491825  0.491775\n",
      "  0.491225  0.4843    0.4867    0.491725  0.4904    0.49905   0.47915\n",
      "  0.490375  0.49495   0.488175  0.490675]\n",
      "Mean Permutation accuracy\n",
      "0.489112\n",
      "non-parametric p-values\n",
      "[ 0.  0.  0.  0.  0.  0.  0.  0.  0.  0.  0.  0.  0.  0.  0.  0.  0.  0.\n",
      "  0.  0.  0.  0.  0.  0.  0.]\n",
      "mean p-value\n",
      "0.0\n"
     ]
    }
   ],
   "source": [
    "#Looping through all subjects\n",
    "from os import listdir\n",
    "from os.path import isfile, join\n",
    "from sklearn.dummy import DummyClassifier\n",
    "from sklearn.model_selection import KFold, cross_val_score\n",
    "from sklearn.feature_selection import SelectKBest, f_classif\n",
    "from sklearn import svm\n",
    "from sklearn.linear_model import LogisticRegression\n",
    "from sklearn.externals import joblib\n",
    "import sklearn\n",
    "\n",
    "path = \"X:/IntMem/data\"\n",
    "NbVoxels = 250\n",
    "select250best = SelectKBest(score_func=f_classif, k=NbVoxels)\n",
    "Torun = subj\n",
    "for su in range(Torun.size): #Torun.size\n",
    "    #Load the data from the localizer\n",
    "    n = Torun[su]+1\n",
    "    print(\"Currently dealing with subject %s\" % n)\n",
    "    sub =  \"/s\" + str(n)\n",
    "    path_sub1 = path + sub + \"/func/localizer/run1/\"\n",
    "    path_sub2 = path + sub + \"/func/localizer/run2/\"\n",
    "    files1 = [f for f in listdir(path_sub1) if (isfile(join(path_sub1, f)) and f.startswith('swr'))]\n",
    "    files2 = [f for f in listdir(path_sub2) if (isfile(join(path_sub2, f))and f.startswith('swr'))]\n",
    "    fileR1 = path_sub1 + files1[0] \n",
    "    #Get the data here\n",
    "    LocScansR1 = nib.load(fileR1).get_data()\n",
    "    fileR2 = path_sub2 + files2[0]\n",
    "    LocScansR2 = nib.load(fileR2).get_data()\n",
    "    LocScans = np.concatenate((LocScansR1,LocScansR2),axis=3)\n",
    "    NbScans = LocScans.shape[3]\n",
    "    X = np.zeros((NbScans,NbVoxels))\n",
    "    mod4ind = [i for i in range(NbScans) if ((np.mod(i,10)==3) or (np.mod(i,10)==6))]\n",
    "    y_fit = np.transpose(S2)\n",
    "    y_fit = np.delete(y_fit,O_ind2)\n",
    "    Xsub = np.zeros((NbScans,LocScans.shape[0]*LocScans.shape[1]*LocScans.shape[2]))\n",
    "    #Flatten patterns of neural activity\n",
    "    for t in range(Xsub.shape[0]):\n",
    "        Xsub[t,:] = LocScans[:,:,:,t].flatten()\n",
    "    Xsub = Xsub[mod4ind,:]\n",
    "    Xsub = np.delete(Xsub,O_ind2,0)\n",
    "    nonzeros = np.sum(Xsub, axis=0) !=0\n",
    "    nz = np.argwhere(nonzeros).flatten()\n",
    "    X_nz = Xsub[:,nz]\n",
    "    #Get demeaned data normalized based on the standard deviation for all non-zero voxels\n",
    "    Xsub = (X_nz - np.mean(X_nz, axis=0,keepdims=True))/np.std(X_nz, axis=0, keepdims=True)\n",
    "    NewInds_curr = NewInds[su]\n",
    "    maskIndx = NewInds_curr[nz]\n",
    "    Idx = np.argwhere(maskIndx).flatten()\n",
    "    X_nz = Xsub[:,Idx]\n",
    "    Inds_nz = AllInds[Idx]\n",
    "    #Now, we want to select the 250 most informative voxels\n",
    "    select250best.fit(X_nz,y_fit)\n",
    "    Xdata = select250best.transform(X_nz)\n",
    "    yChar = [\"\" for x in range(y_fit.shape[0])]\n",
    "    for i in range(y_fit.shape[0]):\n",
    "        if(y_fit[i]==1):\n",
    "            yChar[i] = 'S'\n",
    "        else:\n",
    "            yChar[i] = 'F'\n",
    "    #Making sure that we are NOT taking two consecutive scans in the test sets\n",
    "    #Next, initialize k folds\n",
    "    k_fold = KFold(n_splits=K,shuffle=True)\n",
    "    while 1:\n",
    "        AllGood = True\n",
    "        for train_indices, test_indices in k_fold.split(Xdata):\n",
    "            if(test_indices[1]==(test_indices[0]+1)):\n",
    "                AllGood=False\n",
    "                break\n",
    "        if(AllGood==True):\n",
    "            break\n",
    "        else:\n",
    "            k_fold = KFold(n_splits=K,shuffle=True)\n",
    "    clf = LogisticRegression()\n",
    "    #Logistic regression classifier\n",
    "    ResultsClf[su,:] = cross_val_score(clf,Xdata,y_fit,cv=k_fold)\n",
    "    classification_accuracy[su] = np.mean(ResultsClf[su,:])\n",
    "    folds_accuracies = np.zeros(n_permutations)\n",
    "    #Here we are performing the permutation tests \n",
    "    for i in range(n_permutations):\n",
    "        #First make sure that the K-folds never have two scans from the same localizer series\n",
    "        k_fold = KFold(n_splits=K,shuffle=True)\n",
    "        while 1:\n",
    "            AllGood = True\n",
    "            for train_indices, test_indices in k_fold.split(Xdata):\n",
    "                if(test_indices[1]==(test_indices[0]+1)):\n",
    "                    AllGood=False\n",
    "                    break\n",
    "            if(AllGood==True):\n",
    "                break\n",
    "            else:\n",
    "                k_fold = KFold(n_splits=K,shuffle=True)\n",
    "        np.random.shuffle(y_fit) #shuffling the data\n",
    "        folds_accuracies[i] = np.mean(cross_val_score(clf,Xdata,y_fit,cv=k_fold))\n",
    "    permuted_accuracy[su] = np.mean(folds_accuracies)\n",
    "    observed_acc = classification_accuracy[su]\n",
    "    N=n_permutations\n",
    "    #Finally, we compute the p-values after permutation tests. Note that they were all very low (p<0.01), so low that they show up as 0\n",
    "    p_values[su] = np.sum((folds_accuracies>observed_acc)*1)/N\n",
    "\n",
    "print(\"printing classification accuracy\")\n",
    "print(classification_accuracy)\n",
    "print(\"printing permuted accuracy\")\n",
    "print(permuted_accuracy)\n",
    "print(\"Mean Permutation accuracy\")\n",
    "print(np.mean(permuted_accuracy))\n",
    "print(\"non-parametric p-values\")\n",
    "print(p_values)\n",
    "print(\"mean p-value\")\n",
    "print(np.mean(p_values))"
   ]
  },
  {
   "cell_type": "code",
   "execution_count": 17,
   "metadata": {},
   "outputs": [
    {
     "name": "stdout",
     "output_type": "stream",
     "text": [
      "0.0\n"
     ]
    }
   ],
   "source": [
    "print(np.amax(p_values))"
   ]
  },
  {
   "cell_type": "code",
   "execution_count": 9,
   "metadata": {},
   "outputs": [
    {
     "data": {
      "image/png": "[encoded data removed]",
      "text/plain": [
       "<matplotlib.figure.Figure at 0xb2695c0>"
      ]
     },
     "metadata": {},
     "output_type": "display_data"
    }
   ],
   "source": [
    "import matplotlib.pyplot as plt\n",
    "plt.figure(figsize=(5,5))\n",
    "my_xticks = [1,3,5,7,9,11,13,15,17,19]\n",
    "my_yticks = [1,6,11,16,21]\n",
    "plt.imshow(ResultsClf, cmap = 'PuRd', interpolation='none', vmin=0.0, vmax=1.0)\n",
    "plt.ylabel('Subject')\n",
    "plt.xlabel('Fold Number')\n",
    "plt.xticks([0,2,4,6,8,10,12,14,16,18], my_xticks)\n",
    "plt.yticks([0,5,10,15,20],my_yticks)\n",
    "plt.title('MVPA Classifier Performance')\n",
    "plt.colorbar()\n",
    "plt.show()"
   ]
  },
  {
   "cell_type": "code",
   "execution_count": 11,
   "metadata": {},
   "outputs": [
    {
     "data": {
      "image/png": "[encoded data removed]",
      "text/plain": [
       "<matplotlib.figure.Figure at 0xb1c7b38>"
      ]
     },
     "metadata": {},
     "output_type": "display_data"
    }
   ],
   "source": [
    "#Printing the classification results for all subjects as a bar graph\n",
    "plt.figure(figsize=(15,5))\n",
    "y = classification_accuracy\n",
    "N = subj.size + 1\n",
    "x = np.arange(1,N)\n",
    "ss = [s+1 for s in subj]\n",
    "width = 1/1.5\n",
    "plt.bar(x, y, width, color=\"blue\", align='center')\n",
    "plt.xticks(x, ss)\n",
    "plt.xlim([0,26])\n",
    "plt.ylim([0,1.13])\n",
    "plt.title('MVPA Classification performance across subjects')\n",
    "plt.ylabel('mean Performance accuracy (probability)')\n",
    "plt.xlabel('Subject number')\n",
    "pylab.show()"
   ]
  },
  {
   "cell_type": "code",
   "execution_count": 14,
   "metadata": {},
   "outputs": [
    {
     "data": {
      "image/png": "[encoded data removed]",
      "text/plain": [
       "<matplotlib.figure.Figure at 0xb1989e8>"
      ]
     },
     "metadata": {},
     "output_type": "display_data"
    }
   ],
   "source": [
    "#Printing the chance level results for all subjects as a bar graph\n",
    "plt.figure(figsize=(15,5))\n",
    "y = permuted_accuracy\n",
    "N = subj.size + 1\n",
    "x = np.arange(1,N)\n",
    "ss = [s+1 for s in subj]\n",
    "width = 1/1.5\n",
    "plt.bar(x, y, width, color=\"red\", align='center')\n",
    "plt.xticks(x, ss)\n",
    "plt.xticks(np.arange(1,N))\n",
    "plt.xlim([0,26])\n",
    "plt.ylim([0,1.13])\n",
    "plt.title('MVPA Chance level across subjects')\n",
    "plt.ylabel('mean Performance accuracy (probability)')\n",
    "plt.xlabel('Subject number')\n",
    "pylab.show()"
   ]
  },
  {
   "cell_type": "code",
   "execution_count": 13,
   "metadata": {},
   "outputs": [
    {
     "name": "stdout",
     "output_type": "stream",
     "text": [
      "0.925\n"
     ]
    }
   ],
   "source": [
    "print(np.mean(classification_accuracy))\n",
    "print(np.std(classification_accuracy))"
   ]
  },
  {
   "cell_type": "code",
   "execution_count": 15,
   "metadata": {},
   "outputs": [
    {
     "name": "stdout",
     "output_type": "stream",
     "text": [
      "0.486731\n"
     ]
    }
   ],
   "source": [
    "print(np.mean(permuted_accuracy))\n",
    "print(np.std(permuted_accuracy))"
   ]
  },
  {
   "cell_type": "code",
   "execution_count": null,
   "metadata": {
    "collapsed": true
   },
   "outputs": [],
   "source": []
  }
 ],
 "metadata": {
  "anaconda-cloud": {},
  "kernelspec": {
   "display_name": "Python 3",
   "language": "python",
   "name": "python3"
  },
  "language_info": {
   "codemirror_mode": {
    "name": "ipython",
    "version": 3
   },
   "file_extension": ".py",
   "mimetype": "text/x-python",
   "name": "python",
   "nbconvert_exporter": "python",
   "pygments_lexer": "ipython3",
   "version": "3.6.8"
  }
 },
 "nbformat": 4,
 "nbformat_minor": 1
}
